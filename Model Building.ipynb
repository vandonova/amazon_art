{
 "cells": [
  {
   "cell_type": "markdown",
   "metadata": {},
   "source": [
    "# Building and Tuning the Models"
   ]
  },
  {
   "cell_type": "markdown",
   "metadata": {},
   "source": [
    "- Amazon Art scraped data for prints: data, data dictionary\n",
    "- Each observation represents a diffrent print\n",
    "- Goal: Predict print price per square inch based on the data and the extracted features\n",
    "- Models: Logistic Regression, Naive Bayes, Decision Tree, and Random Forest\n"
   ]
  },
  {
   "cell_type": "markdown",
   "metadata": {},
   "source": [
    "## Part 1: Logistic Regression and Naive Bayes: Predicting Price Based on Artist"
   ]
  },
  {
   "cell_type": "markdown",
   "metadata": {},
   "source": [
    "We will predict the price per square inch of a print based solely on the artist as one of the first hypothesis was that the price of a piece of work has less to do with the actual print and more with the popularity and status of the artist.\n",
    "\n",
    "We will try both a **Logistic Regression** and a **Naive Bayes** model. As seen in the EDA, since the classes are unbalanced Naive Bayes is expected to perform at least slightly better."
   ]
  },
  {
   "cell_type": "code",
   "execution_count": 70,
   "metadata": {
    "collapsed": false
   },
   "outputs": [],
   "source": [
    "import pandas as pd\n",
    "import numpy as np\n",
    "import seaborn as sns\n",
    "import matplotlib.pyplot as plt\n",
    "\n",
    "# allow plots to appear in the notebook\n",
    "%matplotlib inline"
   ]
  },
  {
   "cell_type": "markdown",
   "metadata": {},
   "source": [
    "### Preparing the Data"
   ]
  },
  {
   "cell_type": "code",
   "execution_count": 71,
   "metadata": {
    "collapsed": false
   },
   "outputs": [
    {
     "data": {
      "text/plain": [
       "artist              0\n",
       "description       739\n",
       "height              0\n",
       "image               0\n",
       "price               0\n",
       "size                2\n",
       "title               0\n",
       "url_id              0\n",
       "width               0\n",
       "area                0\n",
       "price_sqin          0\n",
       "price_class         0\n",
       "avg_r_value         0\n",
       "avg_g_value         0\n",
       "avg_b_value         0\n",
       "avg_hue             0\n",
       "avg_saturation      0\n",
       "avg_value           0\n",
       "dtype: int64"
      ]
     },
     "execution_count": 71,
     "metadata": {},
     "output_type": "execute_result"
    }
   ],
   "source": [
    "# read in the cleaned data prepared in the EDA notebook\n",
    "url = 'data/modelready_df.csv'\n",
    "model_df = pd.read_csv(url)\n",
    "\n",
    "# remove 'Unnamed: 0' column\n",
    "model_df.drop('Unnamed: 0', axis = 1, inplace= True)\n",
    "\n",
    "# double check for null values\n",
    "model_df.isnull().sum()"
   ]
  },
  {
   "cell_type": "code",
   "execution_count": 72,
   "metadata": {
    "collapsed": false
   },
   "outputs": [],
   "source": [
    "# fill null values for description with and empty string \n",
    "model_df['description'] = model_df.description.fillna(value = '')\n",
    "\n",
    "# fill 2 null values for size, note the size is already captured in the width and height columns\n",
    "model_df['size'] = model_df['size'].fillna(value = 'see height/width')"
   ]
  },
  {
   "cell_type": "code",
   "execution_count": 73,
   "metadata": {
    "collapsed": false
   },
   "outputs": [
    {
     "data": {
      "text/html": [
       "<div>\n",
       "<table border=\"1\" class=\"dataframe\">\n",
       "  <thead>\n",
       "    <tr style=\"text-align: right;\">\n",
       "      <th></th>\n",
       "      <th>artist</th>\n",
       "      <th>description</th>\n",
       "      <th>height</th>\n",
       "      <th>image</th>\n",
       "      <th>price</th>\n",
       "      <th>size</th>\n",
       "      <th>title</th>\n",
       "      <th>url_id</th>\n",
       "      <th>width</th>\n",
       "      <th>area</th>\n",
       "      <th>price_sqin</th>\n",
       "      <th>price_class</th>\n",
       "      <th>avg_r_value</th>\n",
       "      <th>avg_g_value</th>\n",
       "      <th>avg_b_value</th>\n",
       "      <th>avg_hue</th>\n",
       "      <th>avg_saturation</th>\n",
       "      <th>avg_value</th>\n",
       "    </tr>\n",
       "  </thead>\n",
       "  <tbody>\n",
       "    <tr>\n",
       "      <th>0</th>\n",
       "      <td>alexandra mas</td>\n",
       "      <td>It is part of \"Préconçue\" art show, against pr...</td>\n",
       "      <td>47.24</td>\n",
       "      <td>http://ecx.images-amazon.com/images/I/519lYUvA...</td>\n",
       "      <td>5100.0</td>\n",
       "      <td>[u'47.24', u'31.5', u'3.94 in.']</td>\n",
       "      <td>For sale,</td>\n",
       "      <td>B015EOYYEE</td>\n",
       "      <td>31.5</td>\n",
       "      <td>1488.06</td>\n",
       "      <td>3.427281</td>\n",
       "      <td>4.0</td>\n",
       "      <td>99.576264</td>\n",
       "      <td>86.109942</td>\n",
       "      <td>79.650188</td>\n",
       "      <td>44.528990</td>\n",
       "      <td>49.881317</td>\n",
       "      <td>99.874837</td>\n",
       "    </tr>\n",
       "    <tr>\n",
       "      <th>1</th>\n",
       "      <td>joel degrand</td>\n",
       "      <td>Uniforms, Outfits, &amp; Accessories We think of t...</td>\n",
       "      <td>90.00</td>\n",
       "      <td>http://ecx.images-amazon.com/images/I/51MCovXG...</td>\n",
       "      <td>10000.0</td>\n",
       "      <td>[u'90', u'72', u'0.5 in.']</td>\n",
       "      <td>Steve, Fireman, Beverly Shores, IN,</td>\n",
       "      <td>B00IRTE78C</td>\n",
       "      <td>72.0</td>\n",
       "      <td>6480.00</td>\n",
       "      <td>1.543210</td>\n",
       "      <td>4.0</td>\n",
       "      <td>134.264499</td>\n",
       "      <td>89.615733</td>\n",
       "      <td>95.596077</td>\n",
       "      <td>101.140679</td>\n",
       "      <td>98.397558</td>\n",
       "      <td>142.234524</td>\n",
       "    </tr>\n",
       "  </tbody>\n",
       "</table>\n",
       "</div>"
      ],
      "text/plain": [
       "          artist                                        description  height  \\\n",
       "0  alexandra mas  It is part of \"Préconçue\" art show, against pr...   47.24   \n",
       "1   joel degrand  Uniforms, Outfits, & Accessories We think of t...   90.00   \n",
       "\n",
       "                                               image    price  \\\n",
       "0  http://ecx.images-amazon.com/images/I/519lYUvA...   5100.0   \n",
       "1  http://ecx.images-amazon.com/images/I/51MCovXG...  10000.0   \n",
       "\n",
       "                               size                                title  \\\n",
       "0  [u'47.24', u'31.5', u'3.94 in.']                            For sale,   \n",
       "1        [u'90', u'72', u'0.5 in.']  Steve, Fireman, Beverly Shores, IN,   \n",
       "\n",
       "       url_id  width     area  price_sqin  price_class  avg_r_value  \\\n",
       "0  B015EOYYEE   31.5  1488.06    3.427281          4.0    99.576264   \n",
       "1  B00IRTE78C   72.0  6480.00    1.543210          4.0   134.264499   \n",
       "\n",
       "   avg_g_value  avg_b_value     avg_hue  avg_saturation   avg_value  \n",
       "0    86.109942    79.650188   44.528990       49.881317   99.874837  \n",
       "1    89.615733    95.596077  101.140679       98.397558  142.234524  "
      ]
     },
     "execution_count": 73,
     "metadata": {},
     "output_type": "execute_result"
    }
   ],
   "source": [
    "model_df.head(2)"
   ]
  },
  {
   "cell_type": "code",
   "execution_count": 74,
   "metadata": {
    "collapsed": true
   },
   "outputs": [],
   "source": [
    "# create dummy variables for each artist\n",
    "artist_dummies = pd.get_dummies(data = model_df.artist)\n",
    "\n",
    "# drop one column to prevent multicolinearity\n",
    "artist_dummies.drop(artist_dummies.columns[0], axis=1, inplace=True)"
   ]
  },
  {
   "cell_type": "code",
   "execution_count": 75,
   "metadata": {
    "collapsed": true
   },
   "outputs": [],
   "source": [
    "model_df.loc[model_df.price_sqin < .50, 'price_class'] = 0\n",
    "model_df.loc[(model_df.price_sqin >= .50) & (model_df.price_sqin < 1), 'price_class'] = 1\n",
    "model_df.loc[(model_df.price_sqin >= 1) & (model_df.price_sqin < 2), 'price_class'] = 2\n",
    "model_df.loc[(model_df.price_sqin >= 2) & (model_df.price_sqin < 10), 'price_class'] = 3\n",
    "model_df.loc[(model_df.price_sqin >= 10) & (model_df.price_sqin < 50), 'price_class'] = 4\n",
    "model_df.loc[(model_df.price_sqin >= 50) & (model_df.price_sqin < 200), 'price_class'] = 5\n",
    "model_df.loc[(model_df.price_sqin >= 200), 'price_class'] = 6"
   ]
  },
  {
   "cell_type": "code",
   "execution_count": 76,
   "metadata": {
    "collapsed": false
   },
   "outputs": [
    {
     "name": "stdout",
     "output_type": "stream",
     "text": [
      "(4526, 18) (4526, 640)\n"
     ]
    },
    {
     "data": {
      "text/plain": [
       "(4526, 658)"
      ]
     },
     "execution_count": 76,
     "metadata": {},
     "output_type": "execute_result"
    }
   ],
   "source": [
    "print model_df.shape, artist_dummies.shape\n",
    "\n",
    "# concatinate the two dataframes\n",
    "art_artist = pd.concat([model_df, artist_dummies], ignore_index= False, axis = 1, verify_integrity = True)\n",
    "art_artist.shape"
   ]
  },
  {
   "cell_type": "markdown",
   "metadata": {},
   "source": [
    "### Logistic Model"
   ]
  },
  {
   "cell_type": "code",
   "execution_count": 77,
   "metadata": {
    "collapsed": true
   },
   "outputs": [],
   "source": [
    "from sklearn.linear_model import LogisticRegression\n",
    "from sklearn.cross_validation import train_test_split, cross_val_score\n",
    "from sklearn import metrics\n",
    "from nltk import ConfusionMatrix\n",
    "\n",
    "# define a logistic regression model\n",
    "\n",
    "def artist_logreg(X, y):\n",
    "    # cross validate\n",
    "    X_train, X_test, y_train, y_test = train_test_split(X, y, random_state=1)\n",
    "\n",
    "    # fit a logistic regression and store the class predictions\n",
    "    logreg = LogisticRegression()\n",
    "    logreg.fit(X_train, y_train)\n",
    "    y_pred_class = logreg.predict(X_test)\n",
    "\n",
    "    # calculate accuracy\n",
    "    print 'Accuracy: ', metrics.accuracy_score(y_test, y_pred_class)\n",
    "    print ConfusionMatrix(list(y_test), list(y_pred_class))\n",
    "\n",
    "    # calculate null accuracy\n",
    "    print 'Null Accuracy Rate: ', float(model_df.price_class.value_counts().max())/len(model_df.price_class)"
   ]
  },
  {
   "cell_type": "code",
   "execution_count": 78,
   "metadata": {
    "collapsed": false
   },
   "outputs": [
    {
     "name": "stdout",
     "output_type": "stream",
     "text": [
      "Accuracy:  0.782685512367\n",
      "    |   0   1   2   3   4   5   6 |\n",
      "    |   .   .   .   .   .   .   . |\n",
      "    |   0   0   0   0   0   0   0 |\n",
      "----+-----------------------------+\n",
      "0.0 | <32> 22   .   6   .   .   . |\n",
      "1.0 |   3<132> 28  27   .   .   . |\n",
      "2.0 |   .  34<249> 34   .   .   . |\n",
      "3.0 |   .   .  29<414> 13   .   . |\n",
      "4.0 |   .   .   .  40 <56>  .   . |\n",
      "5.0 |   .   .   .   5   4  <3>  . |\n",
      "6.0 |   .   .   .   .   1   .  <.>|\n",
      "----+-----------------------------+\n",
      "(row = reference; col = test)\n",
      "\n",
      "Null Accuracy Rate:  0.392620415378\n"
     ]
    }
   ],
   "source": [
    "# define X and y\n",
    "X = artist_dummies\n",
    "y = model_df.price_class\n",
    "\n",
    "artist_logreg(X, y)"
   ]
  },
  {
   "cell_type": "markdown",
   "metadata": {},
   "source": [
    "### Naive Bayes"
   ]
  },
  {
   "cell_type": "code",
   "execution_count": 79,
   "metadata": {
    "collapsed": false
   },
   "outputs": [],
   "source": [
    "from sklearn.naive_bayes import MultinomialNB\n",
    "# define a Naive-Bayes model\n",
    "\n",
    "def artist_nb(X, y):\n",
    "    # cross validate\n",
    "    X_train, X_test, y_train, y_test = train_test_split(X, y, random_state=1)\n",
    "\n",
    "    # fit a logistic regression and store the class predictions\n",
    "    nb = MultinomialNB()\n",
    "    nb.fit(X_train, y_train)\n",
    "    y_pred_class = nb.predict(X_test)\n",
    "\n",
    "    # calculate accuracy\n",
    "    print 'Accuracy: ', metrics.accuracy_score(y_test, y_pred_class)\n",
    "    print ConfusionMatrix(list(y_test), list(y_pred_class))\n",
    "\n",
    "    # calculate null accuracy\n",
    "    print 'Null Accuracy Rate: ', float(model_df.price_class.value_counts().max())/len(model_df.price_class)"
   ]
  },
  {
   "cell_type": "code",
   "execution_count": 80,
   "metadata": {
    "collapsed": false
   },
   "outputs": [
    {
     "name": "stdout",
     "output_type": "stream",
     "text": [
      "Accuracy:  0.78445229682\n",
      "    |   0   1   2   3   4   5   6 |\n",
      "    |   .   .   .   .   .   .   . |\n",
      "    |   0   0   0   0   0   0   0 |\n",
      "----+-----------------------------+\n",
      "0.0 | <27> 27   .   6   .   .   . |\n",
      "1.0 |   .<146> 28  16   .   .   . |\n",
      "2.0 |   .  35<243> 39   .   .   . |\n",
      "3.0 |   .   .  22<424> 10   .   . |\n",
      "4.0 |   .   .   .  51 <45>  .   . |\n",
      "5.0 |   .   .   .   5   4  <3>  . |\n",
      "6.0 |   .   .   .   .   1   .  <.>|\n",
      "----+-----------------------------+\n",
      "(row = reference; col = test)\n",
      "\n",
      "Null Accuracy Rate:  0.392620415378\n"
     ]
    }
   ],
   "source": [
    "# define X and y\n",
    "X = artist_dummies\n",
    "y = model_df.price_class\n",
    "\n",
    "artist_nb(X, y)"
   ]
  },
  {
   "cell_type": "markdown",
   "metadata": {},
   "source": [
    "We see that we can predict the price per sqin of a print with 78.4% accuracy based solely on the artist."
   ]
  },
  {
   "cell_type": "markdown",
   "metadata": {},
   "source": [
    "## Part 2: Natural Language Processing: Classifying Price Based on Description"
   ]
  },
  {
   "cell_type": "markdown",
   "metadata": {},
   "source": [
    "Since visual content analysis is not in the scope of this project, the we will use the artist written description as a proxy for artwork content. "
   ]
  },
  {
   "cell_type": "markdown",
   "metadata": {},
   "source": [
    "### Tokenization"
   ]
  },
  {
   "cell_type": "code",
   "execution_count": 81,
   "metadata": {
    "collapsed": true
   },
   "outputs": [],
   "source": [
    "#fit using Logistic Regression\n",
    "def tokenize_logreg(vect):\n",
    "    #cross validate\n",
    "    X_train, X_test, y_train, y_test = train_test_split(X, y, random_state=1)\n",
    "\n",
    "    #create a document term matrix\n",
    "    X_train_dtm = vect.fit_transform(X_train)\n",
    "    print 'Features: ', X_train_dtm.shape[1]\n",
    "    X_test_dtm = vect.transform(X_test)\n",
    "    \n",
    "    # use logistic regression with text column only\n",
    "    logreg = LogisticRegression()\n",
    "    logreg.fit(X_train_dtm, y_train)\n",
    "    y_pred_class = logreg.predict(X_test_dtm)\n",
    "    \n",
    "    # calculate accuracy\n",
    "    print 'Accuracy: ', metrics.accuracy_score(y_test, y_pred_class)    \n",
    "\n",
    "#Fit using Naive Bayes\n",
    "def tokenize_nb(vect):\n",
    "    #cross validate\n",
    "    X_train, X_test, y_train, y_test = train_test_split(X, y, random_state=1)\n",
    "\n",
    "    #create a document term matrix\n",
    "    X_train_dtm = vect.fit_transform(X_train)\n",
    "    print 'Features: ', X_train_dtm.shape[1]\n",
    "    X_test_dtm = vect.transform(X_test)\n",
    "    \n",
    "    # use logistic regression with text column only\n",
    "    nb = MultinomialNB()\n",
    "    nb.fit(X_train_dtm, y_train)\n",
    "    y_pred_class = nb.predict(X_test_dtm)\n",
    "    \n",
    "    # calculate accuracy\n",
    "    print 'Accuracy: ', metrics.accuracy_score(y_test, y_pred_class)"
   ]
  },
  {
   "cell_type": "code",
   "execution_count": 152,
   "metadata": {
    "collapsed": false
   },
   "outputs": [],
   "source": [
    "# define a function that accepts text and returns a list of lemmas\n",
    "# def split_into_lemmas(text):\n",
    "#     try:\n",
    "#         text = unicode(text, 'utf-8').lower()\n",
    "#         words = TextBlob(text).words\n",
    "#         return [word.lemmatize() for word in words]\n",
    "#     except:\n",
    "#         return text.split(' ')\n",
    "from textblob import TextBlob, Word\n",
    "\n",
    "def split_into_lemmas(text):\n",
    "    text = unicode(text, 'utf-8').lower()\n",
    "    words = TextBlob(text).words\n",
    "    return [word.lemmatize() for word in words]\n"
   ]
  },
  {
   "cell_type": "code",
   "execution_count": 83,
   "metadata": {
    "collapsed": true
   },
   "outputs": [],
   "source": [
    "#define X and y\n",
    "X = model_df.loc[:,'description']\n",
    "y = model_df.loc[:,'price_class']"
   ]
  },
  {
   "cell_type": "code",
   "execution_count": 84,
   "metadata": {
    "collapsed": false
   },
   "outputs": [
    {
     "name": "stdout",
     "output_type": "stream",
     "text": [
      "Features:  16997\n",
      "Accuracy:  0.706713780919\n",
      "None Features:  16997\n",
      "Accuracy:  0.658127208481\n",
      "None\n",
      "Features:  7573\n",
      "Accuracy:  0.695229681979\n",
      "None Features:  7573\n",
      "Accuracy:  0.632508833922\n",
      "None\n",
      "Features:  16997\n",
      "Accuracy:  0.687279151943\n",
      "None Features:  16997\n",
      "Accuracy:  0.678445229682\n",
      "None\n",
      "Null Accuracy Rate:  0.392620415378\n"
     ]
    }
   ],
   "source": [
    "from sklearn.feature_extraction.text import CountVectorizer, TfidfVectorizer\n",
    "vect1 = CountVectorizer(ngram_range=(1,2), stop_words= 'english', min_df = 2)\n",
    "# use split_into_lemmas as the feature extraction function\n",
    "vect2 = CountVectorizer(ngram_range=(1,2), stop_words= 'english', min_df = 2, analyzer=split_into_lemmas)\n",
    "vect3 = TfidfVectorizer(ngram_range=(1,2), stop_words= 'english', min_df = 2)\n",
    "\n",
    "vects = [vect1, vect2, vect3]\n",
    "for i in vects:\n",
    "    print tokenize_logreg(i), tokenize_nb(i)\n",
    "    \n",
    "\n",
    "print 'Null Accuracy Rate: ', float(model_df.price_class.value_counts().max())/len(model_df.price_class)"
   ]
  },
  {
   "cell_type": "markdown",
   "metadata": {},
   "source": [
    "We see that the Logistic Regression consistently does better than Naive Bayes in classiying the correct price bin.\n",
    "\n",
    "Though the regular CountVectorizer has a higher accuracy, the count vectorizer that splits the words into lemmas has a comprable accuracy but significanly less features. We will thus choose the vectorizer that uses lemmas."
   ]
  },
  {
   "cell_type": "markdown",
   "metadata": {},
   "source": [
    "## Part 3: Building and tuning decision trees and Random Forests"
   ]
  },
  {
   "cell_type": "markdown",
   "metadata": {},
   "source": [
    "### Preparing the data"
   ]
  },
  {
   "cell_type": "code",
   "execution_count": 85,
   "metadata": {
    "collapsed": false
   },
   "outputs": [
    {
     "name": "stdout",
     "output_type": "stream",
     "text": [
      "(4526, 2) (4526, 18) (4526, 20)\n",
      "Index([u'artist', u'description', u'height', u'image', u'price', u'size',\n",
      "       u'title', u'url_id', u'width', u'area', u'price_sqin', u'price_class',\n",
      "       u'avg_r_value', u'avg_g_value', u'avg_b_value', u'avg_hue',\n",
      "       u'avg_saturation', u'avg_value', u'crossplane_sym', u'inplane_sym'],\n",
      "      dtype='object')\n"
     ]
    }
   ],
   "source": [
    "# read in the symmetry dataframe containing crossplane and inplane symmetry\n",
    "symmetry_df = pd.read_csv('symmetry_df.csv')\n",
    "symmetry_df.drop(['Unnamed: 0', 'image'], axis =1, inplace = True)\n",
    "\n",
    "# concatinate with model_df\n",
    "art_sym = pd.concat([model_df, symmetry_df], axis =1)\n",
    "print symmetry_df.shape, model_df.shape, art_sym.shape\n",
    "print art_sym.columns"
   ]
  },
  {
   "cell_type": "code",
   "execution_count": 86,
   "metadata": {
    "collapsed": false
   },
   "outputs": [
    {
     "name": "stdout",
     "output_type": "stream",
     "text": [
      "0\n"
     ]
    }
   ],
   "source": [
    "art_sym.isnull().sum()\n",
    "\n",
    "# remove rows with missing values (due to missing symmetry values)\n",
    "art_sym.dropna(axis = 0, how = 'any', subset = ['crossplane_sym', 'inplane_sym'], inplace = True)\n",
    "\n",
    "print art_sym.isnull().sum().sum()"
   ]
  },
  {
   "cell_type": "code",
   "execution_count": 87,
   "metadata": {
    "collapsed": false
   },
   "outputs": [],
   "source": [
    "# define features\n",
    "feature_cols = ['area', 'avg_r_value', 'avg_g_value', 'avg_b_value', 'avg_hue',\n",
    "       'avg_saturation', 'avg_value', 'crossplane_sym', 'inplane_sym']\n",
    "\n",
    "# define X and y\n",
    "X = art_sym[feature_cols]\n",
    "y = art_sym.price_class"
   ]
  },
  {
   "cell_type": "code",
   "execution_count": 88,
   "metadata": {
    "collapsed": false
   },
   "outputs": [
    {
     "name": "stdout",
     "output_type": "stream",
     "text": [
      "(3790, 9) (3790,) 3.0    1460\n",
      "2.0     989\n",
      "1.0     699\n",
      "4.0     366\n",
      "0.0     200\n",
      "5.0      68\n",
      "6.0       8\n",
      "Name: price_class, dtype: int64\n"
     ]
    }
   ],
   "source": [
    "print X.shape, y.shape, y.value_counts()"
   ]
  },
  {
   "cell_type": "markdown",
   "metadata": {},
   "source": [
    "### Classifying price with a decision tree"
   ]
  },
  {
   "cell_type": "markdown",
   "metadata": {},
   "source": [
    "Find the best **max_depth** for a decision tree using cross-validation:\n"
   ]
  },
  {
   "cell_type": "code",
   "execution_count": 89,
   "metadata": {
    "collapsed": false
   },
   "outputs": [],
   "source": [
    "from sklearn.tree import DecisionTreeClassifier\n",
    "from sklearn.ensemble import RandomForestClassifier\n",
    "\n",
    "\n",
    "# list of values to try for max_depth\n",
    "max_depth_range = range(2, 21)\n",
    "\n",
    "# list to store the average accuracy for each value of max_depth\n",
    "accuracy_scores = []\n",
    "\n",
    "# use cross-validation with each value of max_depth\n",
    "for depth in max_depth_range:\n",
    "    treeclf = DecisionTreeClassifier(max_depth=depth, random_state=1)\n",
    "    accuracy_score = cross_val_score(treeclf, X, y, cv=5, scoring='accuracy')\n",
    "    accuracy_scores.append(accuracy_score.mean())\n"
   ]
  },
  {
   "cell_type": "code",
   "execution_count": 90,
   "metadata": {
    "collapsed": false
   },
   "outputs": [
    {
     "data": {
      "text/plain": [
       "<matplotlib.text.Text at 0x11a086050>"
      ]
     },
     "execution_count": 90,
     "metadata": {},
     "output_type": "execute_result"
    },
    {
     "data": {
      "image/png": "[encoded data removed]",
      "text/plain": [
       "<matplotlib.figure.Figure at 0x14fbb0b90>"
      ]
     },
     "metadata": {},
     "output_type": "display_data"
    }
   ],
   "source": [
    "# plot max_depth (x-axis) versus accuracy (y-axis)\n",
    "plt.plot(max_depth_range, accuracy_scores)\n",
    "plt.xlabel('max_depth')\n",
    "plt.ylabel('accuracy (higher is better)')"
   ]
  },
  {
   "cell_type": "code",
   "execution_count": 91,
   "metadata": {
    "collapsed": false
   },
   "outputs": [
    {
     "name": "stdout",
     "output_type": "stream",
     "text": [
      "9 9\n"
     ]
    }
   ],
   "source": [
    "treeclf = DecisionTreeClassifier(max_depth=8, random_state=1)\n",
    "treeclf.fit(X, y)\n"
   ]
  },
  {
   "cell_type": "code",
   "execution_count": 92,
   "metadata": {
    "collapsed": false
   },
   "outputs": [
    {
     "name": "stderr",
     "output_type": "stream",
     "text": [
      "/anaconda/lib/python2.7/site-packages/ipykernel/__main__.py:2: FutureWarning: sort(columns=....) is deprecated, use sort_values(by=.....)\n",
      "  from ipykernel import kernelapp as app\n"
     ]
    },
    {
     "data": {
      "text/html": [
       "<div>\n",
       "<table border=\"1\" class=\"dataframe\">\n",
       "  <thead>\n",
       "    <tr style=\"text-align: right;\">\n",
       "      <th></th>\n",
       "      <th>feature</th>\n",
       "      <th>importance</th>\n",
       "    </tr>\n",
       "  </thead>\n",
       "  <tbody>\n",
       "    <tr>\n",
       "      <th>1</th>\n",
       "      <td>avg_r_value</td>\n",
       "      <td>0.013654</td>\n",
       "    </tr>\n",
       "    <tr>\n",
       "      <th>7</th>\n",
       "      <td>crossplane_sym</td>\n",
       "      <td>0.023130</td>\n",
       "    </tr>\n",
       "    <tr>\n",
       "      <th>8</th>\n",
       "      <td>inplane_sym</td>\n",
       "      <td>0.027255</td>\n",
       "    </tr>\n",
       "    <tr>\n",
       "      <th>6</th>\n",
       "      <td>avg_value</td>\n",
       "      <td>0.049186</td>\n",
       "    </tr>\n",
       "    <tr>\n",
       "      <th>3</th>\n",
       "      <td>avg_b_value</td>\n",
       "      <td>0.049320</td>\n",
       "    </tr>\n",
       "    <tr>\n",
       "      <th>2</th>\n",
       "      <td>avg_g_value</td>\n",
       "      <td>0.053809</td>\n",
       "    </tr>\n",
       "    <tr>\n",
       "      <th>4</th>\n",
       "      <td>avg_hue</td>\n",
       "      <td>0.064973</td>\n",
       "    </tr>\n",
       "    <tr>\n",
       "      <th>5</th>\n",
       "      <td>avg_saturation</td>\n",
       "      <td>0.071048</td>\n",
       "    </tr>\n",
       "    <tr>\n",
       "      <th>0</th>\n",
       "      <td>area</td>\n",
       "      <td>0.647627</td>\n",
       "    </tr>\n",
       "  </tbody>\n",
       "</table>\n",
       "</div>"
      ],
      "text/plain": [
       "          feature  importance\n",
       "1     avg_r_value    0.013654\n",
       "7  crossplane_sym    0.023130\n",
       "8     inplane_sym    0.027255\n",
       "6       avg_value    0.049186\n",
       "3     avg_b_value    0.049320\n",
       "2     avg_g_value    0.053809\n",
       "4         avg_hue    0.064973\n",
       "5  avg_saturation    0.071048\n",
       "0            area    0.647627"
      ]
     },
     "execution_count": 92,
     "metadata": {},
     "output_type": "execute_result"
    }
   ],
   "source": [
    "# compute feature importances\n",
    "pd.DataFrame({'feature': feature_cols, 'importance':treeclf.feature_importances_}).sort('importance')"
   ]
  },
  {
   "cell_type": "code",
   "execution_count": 93,
   "metadata": {
    "collapsed": false
   },
   "outputs": [
    {
     "name": "stdout",
     "output_type": "stream",
     "text": [
      "0.497890295359\n"
     ]
    }
   ],
   "source": [
    "rftreeclf = RandomForestClassifier(max_depth=1000)\n",
    "\n",
    "X_train, X_test, y_train, y_test = train_test_split(X, y)\n",
    "\n",
    "rftreeclf.fit(X_train, y_train)\n",
    "preds = rftreeclf.predict(X_test)\n",
    "\n",
    "treeclf.score(X_train, y_train)\n",
    "print metrics.accuracy_score(y_test, preds)"
   ]
  },
  {
   "cell_type": "markdown",
   "metadata": {},
   "source": [
    "### Classifying price with a Random Forest"
   ]
  },
  {
   "cell_type": "code",
   "execution_count": 94,
   "metadata": {
    "collapsed": true
   },
   "outputs": [],
   "source": [
    "rfclf = RandomForestClassifier()"
   ]
  },
  {
   "cell_type": "markdown",
   "metadata": {},
   "source": [
    "#### Turning n_estimators\n",
    "\n",
    "Here we will look for an **n** number of trees grown so that the error stabilizes."
   ]
  },
  {
   "cell_type": "code",
   "execution_count": 95,
   "metadata": {
    "collapsed": true
   },
   "outputs": [],
   "source": [
    "# list of values to try for n_estimators\n",
    "estimator_range = range(10, 510, 10)\n",
    "\n",
    "# list to store the average accuracy for each value of n_estimators\n",
    "accuracy_scores = []\n",
    "\n",
    "# use 5-fold cross-validation with each value of n_estimatorsfro\n",
    "for estimator in estimator_range:\n",
    "    rfclf = RandomForestClassifier(n_estimators=estimator, random_state=1)\n",
    "    accuracy_score = cross_val_score(rfclf, X, y, cv=5, scoring='accuracy')\n",
    "    accuracy_scores.append(np.mean(accuracy_score))"
   ]
  },
  {
   "cell_type": "code",
   "execution_count": 96,
   "metadata": {
    "collapsed": false
   },
   "outputs": [
    {
     "data": {
      "text/plain": [
       "<matplotlib.text.Text at 0x11a246950>"
      ]
     },
     "execution_count": 96,
     "metadata": {},
     "output_type": "execute_result"
    },
    {
     "data": {
      "image/png": "[encoded data removed]",
      "text/plain": [
       "<matplotlib.figure.Figure at 0x143846ad0>"
      ]
     },
     "metadata": {},
     "output_type": "display_data"
    }
   ],
   "source": [
    "# plot n_estimators (x-axis) versus accuracy (y-axis)\n",
    "plt.plot(estimator_range, accuracy_scores)\n",
    "plt.xlabel('n_estimators')\n",
    "plt.ylabel('accuracy (higher is better)')"
   ]
  },
  {
   "cell_type": "markdown",
   "metadata": {},
   "source": [
    "#### Tuning max_features"
   ]
  },
  {
   "cell_type": "code",
   "execution_count": 98,
   "metadata": {
    "collapsed": false
   },
   "outputs": [],
   "source": [
    "# list of values to try for max_features\n",
    "feature_range = range(1, len(feature_cols)+1)\n",
    "\n",
    "# list to store the average accuracy for each value of max_features\n",
    "accuracy_scores = []\n",
    "\n",
    "# use 5-fold cross-validation with each value of max_features\n",
    "for feature in feature_range:\n",
    "    rfclf = RandomForestClassifier(n_estimators=350, max_features=feature, random_state=1)\n",
    "    accuracy_score = cross_val_score(rfclf, X, y, cv=5, scoring='accuracy')\n",
    "    accuracy_scores.append(np.mean(accuracy_score))"
   ]
  },
  {
   "cell_type": "code",
   "execution_count": 99,
   "metadata": {
    "collapsed": false
   },
   "outputs": [
    {
     "data": {
      "text/plain": [
       "<matplotlib.text.Text at 0x14c4a6c90>"
      ]
     },
     "execution_count": 99,
     "metadata": {},
     "output_type": "execute_result"
    },
    {
     "data": {
      "image/png": "[encoded data removed]",
      "text/plain": [
       "<matplotlib.figure.Figure at 0x14bac2f50>"
      ]
     },
     "metadata": {},
     "output_type": "display_data"
    }
   ],
   "source": [
    "# plot feature_range (x-axis) versus accuracy (y-axis)\n",
    "plt.plot(feature_range, accuracy_scores)\n",
    "plt.xlabel('feature_range')\n",
    "plt.ylabel('accuracy (higher is better)')"
   ]
  },
  {
   "cell_type": "code",
   "execution_count": 104,
   "metadata": {
    "collapsed": false
   },
   "outputs": [
    {
     "data": {
      "text/plain": [
       "(0.52266412839739385, 8)"
      ]
     },
     "execution_count": 104,
     "metadata": {},
     "output_type": "execute_result"
    }
   ],
   "source": [
    "# show the best accuracy and the corresponding max_features\n",
    "max(sorted(zip(accuracy_scores, feature_range)))"
   ]
  },
  {
   "cell_type": "markdown",
   "metadata": {},
   "source": [
    "### Fitting a Random Forest with the best parameters\n"
   ]
  },
  {
   "cell_type": "code",
   "execution_count": 109,
   "metadata": {
    "collapsed": false
   },
   "outputs": [
    {
     "name": "stdout",
     "output_type": "stream",
     "text": [
      "Accuracy Score:  0.522664128397\n",
      "Out of Bag Score:  0.610817941953\n"
     ]
    }
   ],
   "source": [
    "# max_features=8 is best and n_estimators=350 is sufficiently large for error to stabilize\n",
    "rfclf = RandomForestClassifier(n_estimators= 350, max_features= 8, oob_score=True, random_state=1)\n",
    "rfclf.fit(X, y)\n",
    "print 'Accuracy Score: ', np.mean(cross_val_score(rfclf, X, y, cv=5, scoring='accuracy'))\n",
    "print 'Out of Bag Score: ', rfclf.oob_score_"
   ]
  },
  {
   "cell_type": "code",
   "execution_count": 102,
   "metadata": {
    "collapsed": false
   },
   "outputs": [
    {
     "name": "stderr",
     "output_type": "stream",
     "text": [
      "/anaconda/lib/python2.7/site-packages/ipykernel/__main__.py:2: FutureWarning: sort(columns=....) is deprecated, use sort_values(by=.....)\n",
      "  from ipykernel import kernelapp as app\n"
     ]
    },
    {
     "data": {
      "text/html": [
       "<div>\n",
       "<table border=\"1\" class=\"dataframe\">\n",
       "  <thead>\n",
       "    <tr style=\"text-align: right;\">\n",
       "      <th></th>\n",
       "      <th>feature</th>\n",
       "      <th>importance</th>\n",
       "    </tr>\n",
       "  </thead>\n",
       "  <tbody>\n",
       "    <tr>\n",
       "      <th>1</th>\n",
       "      <td>avg_r_value</td>\n",
       "      <td>0.070402</td>\n",
       "    </tr>\n",
       "    <tr>\n",
       "      <th>6</th>\n",
       "      <td>avg_value</td>\n",
       "      <td>0.070818</td>\n",
       "    </tr>\n",
       "    <tr>\n",
       "      <th>2</th>\n",
       "      <td>avg_g_value</td>\n",
       "      <td>0.075597</td>\n",
       "    </tr>\n",
       "    <tr>\n",
       "      <th>3</th>\n",
       "      <td>avg_b_value</td>\n",
       "      <td>0.076908</td>\n",
       "    </tr>\n",
       "    <tr>\n",
       "      <th>5</th>\n",
       "      <td>avg_saturation</td>\n",
       "      <td>0.103728</td>\n",
       "    </tr>\n",
       "    <tr>\n",
       "      <th>4</th>\n",
       "      <td>avg_hue</td>\n",
       "      <td>0.105140</td>\n",
       "    </tr>\n",
       "    <tr>\n",
       "      <th>8</th>\n",
       "      <td>inplane_sym</td>\n",
       "      <td>0.106354</td>\n",
       "    </tr>\n",
       "    <tr>\n",
       "      <th>7</th>\n",
       "      <td>crossplane_sym</td>\n",
       "      <td>0.107661</td>\n",
       "    </tr>\n",
       "    <tr>\n",
       "      <th>0</th>\n",
       "      <td>area</td>\n",
       "      <td>0.283392</td>\n",
       "    </tr>\n",
       "  </tbody>\n",
       "</table>\n",
       "</div>"
      ],
      "text/plain": [
       "          feature  importance\n",
       "1     avg_r_value    0.070402\n",
       "6       avg_value    0.070818\n",
       "2     avg_g_value    0.075597\n",
       "3     avg_b_value    0.076908\n",
       "5  avg_saturation    0.103728\n",
       "4         avg_hue    0.105140\n",
       "8     inplane_sym    0.106354\n",
       "7  crossplane_sym    0.107661\n",
       "0            area    0.283392"
      ]
     },
     "execution_count": 102,
     "metadata": {},
     "output_type": "execute_result"
    }
   ],
   "source": [
    "# compute feature importances\n",
    "pd.DataFrame({'feature':feature_cols, 'importance':rfclf.feature_importances_}).sort('importance')"
   ]
  },
  {
   "cell_type": "code",
   "execution_count": 103,
   "metadata": {
    "collapsed": false
   },
   "outputs": [
    {
     "data": {
      "text/plain": [
       "0.6108179419525066"
      ]
     },
     "execution_count": 103,
     "metadata": {},
     "output_type": "execute_result"
    }
   ],
   "source": [
    "# compute the out-of-bag accuracy score\n",
    "rfclf.oob_score_"
   ]
  },
  {
   "cell_type": "markdown",
   "metadata": {},
   "source": [
    "## Classifying with Image Data and Document Matrix"
   ]
  },
  {
   "cell_type": "markdown",
   "metadata": {},
   "source": [
    "### Preparing the data\n"
   ]
  },
  {
   "cell_type": "code",
   "execution_count": 153,
   "metadata": {
    "collapsed": false
   },
   "outputs": [
    {
     "name": "stdout",
     "output_type": "stream",
     "text": [
      "(4526, 2) (4526, 18) (4526, 20)\n",
      "Index([u'artist', u'description', u'height', u'image', u'price', u'size',\n",
      "       u'title', u'url_id', u'width', u'area', u'price_sqin', u'price_class',\n",
      "       u'avg_r_value', u'avg_g_value', u'avg_b_value', u'avg_hue',\n",
      "       u'avg_saturation', u'avg_value', u'crossplane_sym', u'inplane_sym'],\n",
      "      dtype='object')\n"
     ]
    }
   ],
   "source": [
    "# read in the symmetry dataframe again since we dropped some values\n",
    "symmetry_df = pd.read_csv('symmetry_df.csv')\n",
    "symmetry_df.drop(['Unnamed: 0', 'image'], axis =1, inplace = True)\n",
    "\n",
    "# concatinate with model_df\n",
    "art_sym = pd.concat([model_df, symmetry_df], axis =1)\n",
    "\n",
    "print symmetry_df.shape, model_df.shape, art_sym.shape\n",
    "print art_sym.columns"
   ]
  },
  {
   "cell_type": "code",
   "execution_count": 154,
   "metadata": {
    "collapsed": false
   },
   "outputs": [
    {
     "name": "stdout",
     "output_type": "stream",
     "text": [
      "0\n"
     ]
    },
    {
     "data": {
      "text/plain": [
       "(3790, 20)"
      ]
     },
     "execution_count": 154,
     "metadata": {},
     "output_type": "execute_result"
    }
   ],
   "source": [
    "art_sym.isnull().sum()\n",
    "\n",
    "# remove rows with missing values (due to missing symmetry values)\n",
    "art_sym.dropna(axis = 0, how = 'any', subset = ['crossplane_sym', 'inplane_sym'], inplace = True)\n",
    "\n",
    "print art_sym.isnull().sum().sum()\n",
    "art_sym.reset_index(drop=True, inplace=True)\n",
    "art_sym.shape"
   ]
  },
  {
   "cell_type": "code",
   "execution_count": 155,
   "metadata": {
    "collapsed": true
   },
   "outputs": [],
   "source": [
    "#we need to concatinate the predictor columns from art_sym with the doc_matrix\n",
    "feature_cols = ['description', 'area', 'avg_r_value', 'avg_g_value', 'avg_b_value', 'avg_hue',\n",
    "       'avg_saturation', 'avg_value', 'crossplane_sym', 'inplane_sym']"
   ]
  },
  {
   "cell_type": "code",
   "execution_count": 156,
   "metadata": {
    "collapsed": false
   },
   "outputs": [
    {
     "name": "stdout",
     "output_type": "stream",
     "text": [
      "<class 'pandas.core.frame.DataFrame'> <class 'pandas.core.series.Series'>\n",
      "3790 3790\n"
     ]
    }
   ],
   "source": [
    "# define X and y\n",
    "X = art_sym[feature_cols]\n",
    "y = art_sym['price_class']\n",
    "\n",
    "print type(X), type(y)\n",
    "print len(X), len(y)\n",
    "\n",
    "# split into training and testing sets\n",
    "X_train, X_test, y_train, y_test = train_test_split(X, y, random_state=1)"
   ]
  },
  {
   "cell_type": "code",
   "execution_count": 157,
   "metadata": {
    "collapsed": false
   },
   "outputs": [
    {
     "name": "stdout",
     "output_type": "stream",
     "text": [
      "(2842, 5082)\n",
      "(948, 5082)\n"
     ]
    }
   ],
   "source": [
    "# use CountVectorizer with description column only\n",
    "#vect = CountVectorizer(ngram_range=(1,2), stop_words= 'english', min_df = 2, tokenizer=split_into_lemmas)\n",
    "vect = CountVectorizer(ngram_range=(1,2), stop_words= 'english', min_df = 2, analyzer=split_into_lemmas)\n",
    "\n",
    "X_train_dtm = vect.fit_transform(X_train.description)\n",
    "X_test_dtm = vect.transform(X_test.description)\n",
    "print X_train_dtm.shape\n",
    "print X_test_dtm.shape"
   ]
  },
  {
   "cell_type": "code",
   "execution_count": 158,
   "metadata": {
    "collapsed": false
   },
   "outputs": [
    {
     "data": {
      "text/plain": [
       "(2842, 9)"
      ]
     },
     "execution_count": 158,
     "metadata": {},
     "output_type": "execute_result"
    }
   ],
   "source": [
    "# shape of other nine feature columns\n",
    "X_train.drop('description', axis=1).shape"
   ]
  },
  {
   "cell_type": "code",
   "execution_count": 159,
   "metadata": {
    "collapsed": false
   },
   "outputs": [
    {
     "data": {
      "text/plain": [
       "(2842, 9)"
      ]
     },
     "execution_count": 159,
     "metadata": {},
     "output_type": "execute_result"
    }
   ],
   "source": [
    "import scipy as sp\n",
    "# cast other feature columns to float and convert to a sparse matrix\n",
    "extra = sp.sparse.csr_matrix(X_train.drop('description', axis=1).astype(float))\n",
    "extra.shape"
   ]
  },
  {
   "cell_type": "code",
   "execution_count": 160,
   "metadata": {
    "collapsed": false
   },
   "outputs": [
    {
     "data": {
      "text/plain": [
       "(2842, 5091)"
      ]
     },
     "execution_count": 160,
     "metadata": {},
     "output_type": "execute_result"
    }
   ],
   "source": [
    "# combine sparse matrices\n",
    "X_train_dtm_extra = sp.sparse.hstack((X_train_dtm, extra))\n",
    "X_train_dtm_extra.shape"
   ]
  },
  {
   "cell_type": "code",
   "execution_count": 161,
   "metadata": {
    "collapsed": false
   },
   "outputs": [
    {
     "data": {
      "text/plain": [
       "(948, 5091)"
      ]
     },
     "execution_count": 161,
     "metadata": {},
     "output_type": "execute_result"
    }
   ],
   "source": [
    "# repeat for testing set\n",
    "extra = sp.sparse.csr_matrix(X_test.drop('description', axis=1).astype(float))\n",
    "X_test_dtm_extra = sp.sparse.hstack((X_test_dtm, extra))\n",
    "X_test_dtm_extra.shape"
   ]
  },
  {
   "cell_type": "code",
   "execution_count": 162,
   "metadata": {
    "collapsed": false
   },
   "outputs": [
    {
     "name": "stdout",
     "output_type": "stream",
     "text": [
      "(2842,) (948,)\n"
     ]
    }
   ],
   "source": [
    "print y_train.shape, y_test.shape"
   ]
  },
  {
   "cell_type": "markdown",
   "metadata": {},
   "source": [
    "### Classifying price with a decision tree"
   ]
  },
  {
   "cell_type": "code",
   "execution_count": 122,
   "metadata": {
    "collapsed": false
   },
   "outputs": [],
   "source": [
    "from sklearn.tree import DecisionTreeClassifier\n",
    "from sklearn.ensemble import RandomForestClassifier\n",
    "\n",
    "\n",
    "# list of values to try for max_depth\n",
    "max_depth_range = range(18, 32)\n",
    "\n",
    "# list to store the average accuracy for each value of max_depth\n",
    "accuracy_scores = []\n",
    "\n",
    "for depth in max_depth_range:\n",
    "    treeclf = DecisionTreeClassifier(max_depth=depth, random_state=1)\n",
    "    treeclf.fit(X_train_dtm_extra, y_train)\n",
    "    y_pred_class = treeclf.predict(X_test_dtm_extra)\n",
    "    accuracy_score = metrics.accuracy_score(y_test, y_pred_class)\n",
    "    accuracy_scores.append(accuracy_score)"
   ]
  },
  {
   "cell_type": "code",
   "execution_count": 123,
   "metadata": {
    "collapsed": false
   },
   "outputs": [
    {
     "data": {
      "text/plain": [
       "<matplotlib.text.Text at 0x14d847b90>"
      ]
     },
     "execution_count": 123,
     "metadata": {},
     "output_type": "execute_result"
    },
    {
     "data": {
      "image/png": "[encoded data removed]",
      "text/plain": [
       "<matplotlib.figure.Figure at 0x14d816210>"
      ]
     },
     "metadata": {},
     "output_type": "display_data"
    }
   ],
   "source": [
    "# plot max_depth (x-axis) versus accuracy (y-axis)\n",
    "plt.plot(max_depth_range, accuracy_scores)\n",
    "plt.xlabel('max_depth')\n",
    "plt.ylabel('accuracy (higher is better)')"
   ]
  },
  {
   "cell_type": "code",
   "execution_count": 124,
   "metadata": {
    "collapsed": false
   },
   "outputs": [
    {
     "name": "stdout",
     "output_type": "stream",
     "text": [
      "Accuracy:  0.693037974684\n"
     ]
    }
   ],
   "source": [
    "# training the decision tree with the best parameters\n",
    "\n",
    "reeclf = DecisionTreeClassifier(max_depth='28', random_state=1)\n",
    "treeclf.fit(X_train_dtm_extra, y_train)\n",
    "y_pred_class = treeclf.predict(X_test_dtm_extra)\n",
    "print 'Accuracy: ', metrics.accuracy_score(y_test, y_pred_class)"
   ]
  },
  {
   "cell_type": "markdown",
   "metadata": {},
   "source": [
    "### Classifying price with a Random Forest\n",
    "\n",
    "Tuning n_estimators"
   ]
  },
  {
   "cell_type": "code",
   "execution_count": 163,
   "metadata": {
    "collapsed": false
   },
   "outputs": [],
   "source": [
    "# list of values to try for n_estimators\n",
    "estimator_range = range(10, 410, 10)\n",
    "\n",
    "# list to store the average accuracy for each value of n_estimators\n",
    "accuracy_scores = []\n",
    "\n",
    "for estimator in estimator_range:\n",
    "    rfclf = RandomForestClassifier(n_estimators=estimator, random_state=1)\n",
    "    rfclf.fit(X_train_dtm_extra, y_train)\n",
    "    y_pred_class = rfclf.predict(X_test_dtm_extra)\n",
    "    accuracy_score = metrics.accuracy_score(y_test, y_pred_class)\n",
    "    accuracy_scores.append(accuracy_score)"
   ]
  },
  {
   "cell_type": "code",
   "execution_count": 164,
   "metadata": {
    "collapsed": false
   },
   "outputs": [
    {
     "data": {
      "text/plain": [
       "<matplotlib.text.Text at 0x11d2840d0>"
      ]
     },
     "execution_count": 164,
     "metadata": {},
     "output_type": "execute_result"
    },
    {
     "data": {
      "image/png": "[encoded data removed]",
      "text/plain": [
       "<matplotlib.figure.Figure at 0x11a058810>"
      ]
     },
     "metadata": {},
     "output_type": "display_data"
    }
   ],
   "source": [
    "# plot n_estimators (x-axis) versus accuracy (y-axis)\n",
    "plt.plot(estimator_range, accuracy_scores)\n",
    "plt.xlabel('n_estimators')\n",
    "plt.ylabel('accuracy (higher is better)')"
   ]
  },
  {
   "cell_type": "code",
   "execution_count": 165,
   "metadata": {
    "collapsed": false
   },
   "outputs": [
    {
     "data": {
      "text/plain": [
       "(0.74156118143459915, 190)"
      ]
     },
     "execution_count": 165,
     "metadata": {},
     "output_type": "execute_result"
    }
   ],
   "source": [
    "# accuracy stabilizes around 250 n_estimators\n",
    "max(sorted(zip(accuracy_scores, estimator_range)))"
   ]
  },
  {
   "cell_type": "markdown",
   "metadata": {},
   "source": [
    "#### Tuning max_features"
   ]
  },
  {
   "cell_type": "code",
   "execution_count": 166,
   "metadata": {
    "collapsed": false
   },
   "outputs": [],
   "source": [
    "# list of values to try for max_features\n",
    "feature_range = range(4999, 5010)\n",
    "\n",
    "# list to store the average accuracy for each value of max_features\n",
    "accuracy_scores = []\n",
    "\n",
    "# use cross-validation with each value of max_features\n",
    "for feature in feature_range:\n",
    "    rfclf = RandomForestClassifier(n_estimators= 250, max_features=feature, random_state=1)\n",
    "    rfclf.fit(X_train_dtm_extra, y_train)\n",
    "    y_pred_class = rfclf.predict(X_test_dtm_extra)\n",
    "    accuracy_score = metrics.accuracy_score(y_test, y_pred_class)\n",
    "    accuracy_scores.append(accuracy_score)"
   ]
  },
  {
   "cell_type": "code",
   "execution_count": 167,
   "metadata": {
    "collapsed": false
   },
   "outputs": [
    {
     "data": {
      "text/plain": [
       "<matplotlib.text.Text at 0x15191d850>"
      ]
     },
     "execution_count": 167,
     "metadata": {},
     "output_type": "execute_result"
    },
    {
     "data": {
      "image/png": "[encoded data removed]",
      "text/plain": [
       "<matplotlib.figure.Figure at 0x1173b0690>"
      ]
     },
     "metadata": {},
     "output_type": "display_data"
    }
   ],
   "source": [
    "# plot feature_range (x-axis) versus accuracy (y-axis)\n",
    "plt.plot(feature_range, accuracy_scores)\n",
    "plt.xlabel('feature_range')\n",
    "plt.ylabel('accuracy (higher is better)')"
   ]
  },
  {
   "cell_type": "code",
   "execution_count": 168,
   "metadata": {
    "collapsed": false
   },
   "outputs": [
    {
     "data": {
      "text/plain": [
       "(0.8027426160337553, 5001)"
      ]
     },
     "execution_count": 168,
     "metadata": {},
     "output_type": "execute_result"
    }
   ],
   "source": [
    "# show the best accuracy and the corresponding max_features\n",
    "max(sorted(zip(accuracy_scores, feature_range)))"
   ]
  },
  {
   "cell_type": "markdown",
   "metadata": {},
   "source": [
    "### Fitting a Random Forest with the best parameters\n"
   ]
  },
  {
   "cell_type": "code",
   "execution_count": 169,
   "metadata": {
    "collapsed": false
   },
   "outputs": [
    {
     "name": "stdout",
     "output_type": "stream",
     "text": [
      "Accuracy:  0.802742616034\n",
      "Out of Bag Score:  0.765306122449\n"
     ]
    }
   ],
   "source": [
    "# max_features=5001 is best and n_estimators= 250 is sufficiently large\n",
    "rfclf = RandomForestClassifier(n_estimators= 250, max_features = 5001, oob_score=True, random_state=1)\n",
    "rfclf.fit(X_train_dtm_extra, y_train)\n",
    "y_pred_class = rfclf.predict(X_test_dtm_extra)\n",
    "accuracy_score = metrics.accuracy_score(y_test, y_pred_class)\n",
    "\n",
    "print 'Accuracy: ', accuracy_score\n",
    "print 'Out of Bag Score: ', rfclf.oob_score_"
   ]
  },
  {
   "cell_type": "code",
   "execution_count": 170,
   "metadata": {
    "collapsed": true
   },
   "outputs": [],
   "source": [
    "# convert X_train_dtm to a dataframe to get column headers\n",
    "doc_matrix = pd.DataFrame(vect.fit_transform(X_train.description).toarray(), columns=vect.get_feature_names())"
   ]
  },
  {
   "cell_type": "code",
   "execution_count": 171,
   "metadata": {
    "collapsed": false
   },
   "outputs": [
    {
     "data": {
      "text/plain": [
       "5091"
      ]
     },
     "execution_count": 171,
     "metadata": {},
     "output_type": "execute_result"
    }
   ],
   "source": [
    "features = doc_matrix.columns.append(X_train.drop('description', axis=1).columns)\n",
    "len(features)"
   ]
  },
  {
   "cell_type": "code",
   "execution_count": 172,
   "metadata": {
    "collapsed": false
   },
   "outputs": [
    {
     "name": "stderr",
     "output_type": "stream",
     "text": [
      "/anaconda/lib/python2.7/site-packages/ipykernel/__main__.py:2: FutureWarning: sort(columns=....) is deprecated, use sort_values(by=.....)\n",
      "  from ipykernel import kernelapp as app\n"
     ]
    },
    {
     "data": {
      "text/html": [
       "<div>\n",
       "<table border=\"1\" class=\"dataframe\">\n",
       "  <thead>\n",
       "    <tr style=\"text-align: right;\">\n",
       "      <th></th>\n",
       "      <th>feature</th>\n",
       "      <th>importance</th>\n",
       "    </tr>\n",
       "  </thead>\n",
       "  <tbody>\n",
       "    <tr>\n",
       "      <th>0</th>\n",
       "      <td>'a</td>\n",
       "      <td>0.000000</td>\n",
       "    </tr>\n",
       "    <tr>\n",
       "      <th>2474</th>\n",
       "      <td>interaction</td>\n",
       "      <td>0.000000</td>\n",
       "    </tr>\n",
       "    <tr>\n",
       "      <th>2475</th>\n",
       "      <td>interactive</td>\n",
       "      <td>0.000000</td>\n",
       "    </tr>\n",
       "    <tr>\n",
       "      <th>2476</th>\n",
       "      <td>interchangeably</td>\n",
       "      <td>0.000000</td>\n",
       "    </tr>\n",
       "    <tr>\n",
       "      <th>2480</th>\n",
       "      <td>interfere</td>\n",
       "      <td>0.000000</td>\n",
       "    </tr>\n",
       "    <tr>\n",
       "      <th>2482</th>\n",
       "      <td>interlaced</td>\n",
       "      <td>0.000000</td>\n",
       "    </tr>\n",
       "    <tr>\n",
       "      <th>2485</th>\n",
       "      <td>interpret</td>\n",
       "      <td>0.000000</td>\n",
       "    </tr>\n",
       "    <tr>\n",
       "      <th>2469</th>\n",
       "      <td>intensely</td>\n",
       "      <td>0.000000</td>\n",
       "    </tr>\n",
       "    <tr>\n",
       "      <th>2486</th>\n",
       "      <td>interpretation</td>\n",
       "      <td>0.000000</td>\n",
       "    </tr>\n",
       "    <tr>\n",
       "      <th>2489</th>\n",
       "      <td>interweaving</td>\n",
       "      <td>0.000000</td>\n",
       "    </tr>\n",
       "    <tr>\n",
       "      <th>2490</th>\n",
       "      <td>intimate</td>\n",
       "      <td>0.000000</td>\n",
       "    </tr>\n",
       "    <tr>\n",
       "      <th>2493</th>\n",
       "      <td>intolerance</td>\n",
       "      <td>0.000000</td>\n",
       "    </tr>\n",
       "    <tr>\n",
       "      <th>2494</th>\n",
       "      <td>intrigued</td>\n",
       "      <td>0.000000</td>\n",
       "    </tr>\n",
       "    <tr>\n",
       "      <th>2497</th>\n",
       "      <td>introduces</td>\n",
       "      <td>0.000000</td>\n",
       "    </tr>\n",
       "    <tr>\n",
       "      <th>2501</th>\n",
       "      <td>inverness</td>\n",
       "      <td>0.000000</td>\n",
       "    </tr>\n",
       "    <tr>\n",
       "      <th>2488</th>\n",
       "      <td>intersection</td>\n",
       "      <td>0.000000</td>\n",
       "    </tr>\n",
       "    <tr>\n",
       "      <th>2465</th>\n",
       "      <td>intact</td>\n",
       "      <td>0.000000</td>\n",
       "    </tr>\n",
       "    <tr>\n",
       "      <th>2463</th>\n",
       "      <td>insulted</td>\n",
       "      <td>0.000000</td>\n",
       "    </tr>\n",
       "    <tr>\n",
       "      <th>2461</th>\n",
       "      <td>institution</td>\n",
       "      <td>0.000000</td>\n",
       "    </tr>\n",
       "    <tr>\n",
       "      <th>2429</th>\n",
       "      <td>inherent</td>\n",
       "      <td>0.000000</td>\n",
       "    </tr>\n",
       "    <tr>\n",
       "      <th>2430</th>\n",
       "      <td>inherited</td>\n",
       "      <td>0.000000</td>\n",
       "    </tr>\n",
       "    <tr>\n",
       "      <th>2431</th>\n",
       "      <td>inimitable</td>\n",
       "      <td>0.000000</td>\n",
       "    </tr>\n",
       "    <tr>\n",
       "      <th>2432</th>\n",
       "      <td>initial</td>\n",
       "      <td>0.000000</td>\n",
       "    </tr>\n",
       "    <tr>\n",
       "      <th>2433</th>\n",
       "      <td>initially</td>\n",
       "      <td>0.000000</td>\n",
       "    </tr>\n",
       "    <tr>\n",
       "      <th>2437</th>\n",
       "      <td>inked</td>\n",
       "      <td>0.000000</td>\n",
       "    </tr>\n",
       "    <tr>\n",
       "      <th>2440</th>\n",
       "      <td>innate</td>\n",
       "      <td>0.000000</td>\n",
       "    </tr>\n",
       "    <tr>\n",
       "      <th>2443</th>\n",
       "      <td>innocence</td>\n",
       "      <td>0.000000</td>\n",
       "    </tr>\n",
       "    <tr>\n",
       "      <th>2444</th>\n",
       "      <td>innocent</td>\n",
       "      <td>0.000000</td>\n",
       "    </tr>\n",
       "    <tr>\n",
       "      <th>2447</th>\n",
       "      <td>insect</td>\n",
       "      <td>0.000000</td>\n",
       "    </tr>\n",
       "    <tr>\n",
       "      <th>2451</th>\n",
       "      <td>inside/outside</td>\n",
       "      <td>0.000000</td>\n",
       "    </tr>\n",
       "    <tr>\n",
       "      <th>...</th>\n",
       "      <td>...</td>\n",
       "      <td>...</td>\n",
       "    </tr>\n",
       "    <tr>\n",
       "      <th>3472</th>\n",
       "      <td>photograph</td>\n",
       "      <td>0.004253</td>\n",
       "    </tr>\n",
       "    <tr>\n",
       "      <th>1267</th>\n",
       "      <td>dated</td>\n",
       "      <td>0.004431</td>\n",
       "    </tr>\n",
       "    <tr>\n",
       "      <th>1530</th>\n",
       "      <td>edition</td>\n",
       "      <td>0.004643</td>\n",
       "    </tr>\n",
       "    <tr>\n",
       "      <th>4991</th>\n",
       "      <td>with</td>\n",
       "      <td>0.004703</td>\n",
       "    </tr>\n",
       "    <tr>\n",
       "      <th>816</th>\n",
       "      <td>by</td>\n",
       "      <td>0.004745</td>\n",
       "    </tr>\n",
       "    <tr>\n",
       "      <th>386</th>\n",
       "      <td>american</td>\n",
       "      <td>0.004892</td>\n",
       "    </tr>\n",
       "    <tr>\n",
       "      <th>3371</th>\n",
       "      <td>paper</td>\n",
       "      <td>0.005040</td>\n",
       "    </tr>\n",
       "    <tr>\n",
       "      <th>2741</th>\n",
       "      <td>limited</td>\n",
       "      <td>0.005061</td>\n",
       "    </tr>\n",
       "    <tr>\n",
       "      <th>1921</th>\n",
       "      <td>format</td>\n",
       "      <td>0.005206</td>\n",
       "    </tr>\n",
       "    <tr>\n",
       "      <th>2518</th>\n",
       "      <td>is</td>\n",
       "      <td>0.005383</td>\n",
       "    </tr>\n",
       "    <tr>\n",
       "      <th>3254</th>\n",
       "      <td>on</td>\n",
       "      <td>0.005954</td>\n",
       "    </tr>\n",
       "    <tr>\n",
       "      <th>3643</th>\n",
       "      <td>printed</td>\n",
       "      <td>0.006648</td>\n",
       "    </tr>\n",
       "    <tr>\n",
       "      <th>4611</th>\n",
       "      <td>to</td>\n",
       "      <td>0.006787</td>\n",
       "    </tr>\n",
       "    <tr>\n",
       "      <th>2382</th>\n",
       "      <td>in</td>\n",
       "      <td>0.007706</td>\n",
       "    </tr>\n",
       "    <tr>\n",
       "      <th>3803</th>\n",
       "      <td>recto</td>\n",
       "      <td>0.009162</td>\n",
       "    </tr>\n",
       "    <tr>\n",
       "      <th>3240</th>\n",
       "      <td>of</td>\n",
       "      <td>0.011072</td>\n",
       "    </tr>\n",
       "    <tr>\n",
       "      <th>402</th>\n",
       "      <td>and</td>\n",
       "      <td>0.012607</td>\n",
       "    </tr>\n",
       "    <tr>\n",
       "      <th>226</th>\n",
       "      <td>a</td>\n",
       "      <td>0.013645</td>\n",
       "    </tr>\n",
       "    <tr>\n",
       "      <th>3186</th>\n",
       "      <td>note</td>\n",
       "      <td>0.015703</td>\n",
       "    </tr>\n",
       "    <tr>\n",
       "      <th>4560</th>\n",
       "      <td>the</td>\n",
       "      <td>0.018265</td>\n",
       "    </tr>\n",
       "    <tr>\n",
       "      <th>4610</th>\n",
       "      <td>titled</td>\n",
       "      <td>0.018570</td>\n",
       "    </tr>\n",
       "    <tr>\n",
       "      <th>5083</th>\n",
       "      <td>avg_r_value</td>\n",
       "      <td>0.021606</td>\n",
       "    </tr>\n",
       "    <tr>\n",
       "      <th>5084</th>\n",
       "      <td>avg_g_value</td>\n",
       "      <td>0.022860</td>\n",
       "    </tr>\n",
       "    <tr>\n",
       "      <th>5088</th>\n",
       "      <td>avg_value</td>\n",
       "      <td>0.023587</td>\n",
       "    </tr>\n",
       "    <tr>\n",
       "      <th>5085</th>\n",
       "      <td>avg_b_value</td>\n",
       "      <td>0.024325</td>\n",
       "    </tr>\n",
       "    <tr>\n",
       "      <th>5090</th>\n",
       "      <td>inplane_sym</td>\n",
       "      <td>0.031865</td>\n",
       "    </tr>\n",
       "    <tr>\n",
       "      <th>5089</th>\n",
       "      <td>crossplane_sym</td>\n",
       "      <td>0.036318</td>\n",
       "    </tr>\n",
       "    <tr>\n",
       "      <th>5087</th>\n",
       "      <td>avg_saturation</td>\n",
       "      <td>0.037951</td>\n",
       "    </tr>\n",
       "    <tr>\n",
       "      <th>5086</th>\n",
       "      <td>avg_hue</td>\n",
       "      <td>0.039236</td>\n",
       "    </tr>\n",
       "    <tr>\n",
       "      <th>5082</th>\n",
       "      <td>area</td>\n",
       "      <td>0.203182</td>\n",
       "    </tr>\n",
       "  </tbody>\n",
       "</table>\n",
       "<p>5091 rows × 2 columns</p>\n",
       "</div>"
      ],
      "text/plain": [
       "              feature  importance\n",
       "0                  'a    0.000000\n",
       "2474      interaction    0.000000\n",
       "2475      interactive    0.000000\n",
       "2476  interchangeably    0.000000\n",
       "2480        interfere    0.000000\n",
       "2482       interlaced    0.000000\n",
       "2485        interpret    0.000000\n",
       "2469        intensely    0.000000\n",
       "2486   interpretation    0.000000\n",
       "2489     interweaving    0.000000\n",
       "2490         intimate    0.000000\n",
       "2493      intolerance    0.000000\n",
       "2494        intrigued    0.000000\n",
       "2497       introduces    0.000000\n",
       "2501        inverness    0.000000\n",
       "2488     intersection    0.000000\n",
       "2465           intact    0.000000\n",
       "2463         insulted    0.000000\n",
       "2461      institution    0.000000\n",
       "2429         inherent    0.000000\n",
       "2430        inherited    0.000000\n",
       "2431       inimitable    0.000000\n",
       "2432          initial    0.000000\n",
       "2433        initially    0.000000\n",
       "2437            inked    0.000000\n",
       "2440           innate    0.000000\n",
       "2443        innocence    0.000000\n",
       "2444         innocent    0.000000\n",
       "2447           insect    0.000000\n",
       "2451   inside/outside    0.000000\n",
       "...               ...         ...\n",
       "3472       photograph    0.004253\n",
       "1267            dated    0.004431\n",
       "1530          edition    0.004643\n",
       "4991             with    0.004703\n",
       "816                by    0.004745\n",
       "386          american    0.004892\n",
       "3371            paper    0.005040\n",
       "2741          limited    0.005061\n",
       "1921           format    0.005206\n",
       "2518               is    0.005383\n",
       "3254               on    0.005954\n",
       "3643          printed    0.006648\n",
       "4611               to    0.006787\n",
       "2382               in    0.007706\n",
       "3803            recto    0.009162\n",
       "3240               of    0.011072\n",
       "402               and    0.012607\n",
       "226                 a    0.013645\n",
       "3186             note    0.015703\n",
       "4560              the    0.018265\n",
       "4610           titled    0.018570\n",
       "5083      avg_r_value    0.021606\n",
       "5084      avg_g_value    0.022860\n",
       "5088        avg_value    0.023587\n",
       "5085      avg_b_value    0.024325\n",
       "5090      inplane_sym    0.031865\n",
       "5089   crossplane_sym    0.036318\n",
       "5087   avg_saturation    0.037951\n",
       "5086          avg_hue    0.039236\n",
       "5082             area    0.203182\n",
       "\n",
       "[5091 rows x 2 columns]"
      ]
     },
     "execution_count": 172,
     "metadata": {},
     "output_type": "execute_result"
    }
   ],
   "source": [
    "# compute feature importances\n",
    "pd.DataFrame({'feature': features, 'importance':rfclf.feature_importances_}).sort('importance')"
   ]
  },
  {
   "cell_type": "code",
   "execution_count": 173,
   "metadata": {
    "collapsed": false
   },
   "outputs": [
    {
     "data": {
      "text/html": [
       "<div>\n",
       "<table border=\"1\" class=\"dataframe\">\n",
       "  <thead>\n",
       "    <tr style=\"text-align: right;\">\n",
       "      <th></th>\n",
       "      <th>height</th>\n",
       "      <th>price</th>\n",
       "      <th>width</th>\n",
       "      <th>area</th>\n",
       "      <th>price_sqin</th>\n",
       "      <th>price_class</th>\n",
       "      <th>avg_r_value</th>\n",
       "      <th>avg_g_value</th>\n",
       "      <th>avg_b_value</th>\n",
       "      <th>avg_hue</th>\n",
       "      <th>avg_saturation</th>\n",
       "      <th>avg_value</th>\n",
       "      <th>crossplane_sym</th>\n",
       "      <th>inplane_sym</th>\n",
       "    </tr>\n",
       "  </thead>\n",
       "  <tbody>\n",
       "    <tr>\n",
       "      <th>height</th>\n",
       "      <td>1.000000</td>\n",
       "      <td>0.346955</td>\n",
       "      <td>0.776548</td>\n",
       "      <td>0.906289</td>\n",
       "      <td>-0.159310</td>\n",
       "      <td>-0.139930</td>\n",
       "      <td>0.011183</td>\n",
       "      <td>-0.002215</td>\n",
       "      <td>0.005777</td>\n",
       "      <td>0.072624</td>\n",
       "      <td>0.048276</td>\n",
       "      <td>0.015719</td>\n",
       "      <td>0.051837</td>\n",
       "      <td>0.027560</td>\n",
       "    </tr>\n",
       "    <tr>\n",
       "      <th>price</th>\n",
       "      <td>0.346955</td>\n",
       "      <td>1.000000</td>\n",
       "      <td>0.278112</td>\n",
       "      <td>0.363233</td>\n",
       "      <td>0.359094</td>\n",
       "      <td>0.471134</td>\n",
       "      <td>-0.001491</td>\n",
       "      <td>-0.005551</td>\n",
       "      <td>-0.001655</td>\n",
       "      <td>-0.083084</td>\n",
       "      <td>-0.138490</td>\n",
       "      <td>-0.044127</td>\n",
       "      <td>0.019571</td>\n",
       "      <td>-0.016648</td>\n",
       "    </tr>\n",
       "    <tr>\n",
       "      <th>width</th>\n",
       "      <td>0.776548</td>\n",
       "      <td>0.278112</td>\n",
       "      <td>1.000000</td>\n",
       "      <td>0.863556</td>\n",
       "      <td>-0.188141</td>\n",
       "      <td>-0.244776</td>\n",
       "      <td>0.011152</td>\n",
       "      <td>0.012862</td>\n",
       "      <td>0.024751</td>\n",
       "      <td>0.139839</td>\n",
       "      <td>0.079760</td>\n",
       "      <td>0.041904</td>\n",
       "      <td>0.032289</td>\n",
       "      <td>0.045020</td>\n",
       "    </tr>\n",
       "    <tr>\n",
       "      <th>area</th>\n",
       "      <td>0.906289</td>\n",
       "      <td>0.363233</td>\n",
       "      <td>0.863556</td>\n",
       "      <td>1.000000</td>\n",
       "      <td>-0.104234</td>\n",
       "      <td>-0.120259</td>\n",
       "      <td>0.030384</td>\n",
       "      <td>0.027075</td>\n",
       "      <td>0.036036</td>\n",
       "      <td>0.100439</td>\n",
       "      <td>0.033649</td>\n",
       "      <td>0.042578</td>\n",
       "      <td>0.032895</td>\n",
       "      <td>0.021532</td>\n",
       "    </tr>\n",
       "    <tr>\n",
       "      <th>price_sqin</th>\n",
       "      <td>-0.159310</td>\n",
       "      <td>0.359094</td>\n",
       "      <td>-0.188141</td>\n",
       "      <td>-0.104234</td>\n",
       "      <td>1.000000</td>\n",
       "      <td>0.383700</td>\n",
       "      <td>0.008538</td>\n",
       "      <td>-0.007226</td>\n",
       "      <td>-0.028396</td>\n",
       "      <td>-0.083843</td>\n",
       "      <td>-0.050000</td>\n",
       "      <td>-0.022591</td>\n",
       "      <td>-0.012381</td>\n",
       "      <td>-0.020752</td>\n",
       "    </tr>\n",
       "    <tr>\n",
       "      <th>price_class</th>\n",
       "      <td>-0.139930</td>\n",
       "      <td>0.471134</td>\n",
       "      <td>-0.244776</td>\n",
       "      <td>-0.120259</td>\n",
       "      <td>0.383700</td>\n",
       "      <td>1.000000</td>\n",
       "      <td>-0.018657</td>\n",
       "      <td>-0.023426</td>\n",
       "      <td>-0.031836</td>\n",
       "      <td>-0.156105</td>\n",
       "      <td>-0.187537</td>\n",
       "      <td>-0.083276</td>\n",
       "      <td>-0.022645</td>\n",
       "      <td>-0.075092</td>\n",
       "    </tr>\n",
       "    <tr>\n",
       "      <th>avg_r_value</th>\n",
       "      <td>0.011183</td>\n",
       "      <td>-0.001491</td>\n",
       "      <td>0.011152</td>\n",
       "      <td>0.030384</td>\n",
       "      <td>0.008538</td>\n",
       "      <td>-0.018657</td>\n",
       "      <td>1.000000</td>\n",
       "      <td>0.902772</td>\n",
       "      <td>0.757086</td>\n",
       "      <td>-0.059101</td>\n",
       "      <td>-0.192698</td>\n",
       "      <td>0.916035</td>\n",
       "      <td>-0.073368</td>\n",
       "      <td>-0.078553</td>\n",
       "    </tr>\n",
       "    <tr>\n",
       "      <th>avg_g_value</th>\n",
       "      <td>-0.002215</td>\n",
       "      <td>-0.005551</td>\n",
       "      <td>0.012862</td>\n",
       "      <td>0.027075</td>\n",
       "      <td>-0.007226</td>\n",
       "      <td>-0.023426</td>\n",
       "      <td>0.902772</td>\n",
       "      <td>1.000000</td>\n",
       "      <td>0.907230</td>\n",
       "      <td>0.018720</td>\n",
       "      <td>-0.308603</td>\n",
       "      <td>0.911642</td>\n",
       "      <td>-0.096601</td>\n",
       "      <td>-0.076814</td>\n",
       "    </tr>\n",
       "    <tr>\n",
       "      <th>avg_b_value</th>\n",
       "      <td>0.005777</td>\n",
       "      <td>-0.001655</td>\n",
       "      <td>0.024751</td>\n",
       "      <td>0.036036</td>\n",
       "      <td>-0.028396</td>\n",
       "      <td>-0.031836</td>\n",
       "      <td>0.757086</td>\n",
       "      <td>0.907230</td>\n",
       "      <td>1.000000</td>\n",
       "      <td>0.190997</td>\n",
       "      <td>-0.366988</td>\n",
       "      <td>0.856638</td>\n",
       "      <td>-0.103460</td>\n",
       "      <td>-0.060510</td>\n",
       "    </tr>\n",
       "    <tr>\n",
       "      <th>avg_hue</th>\n",
       "      <td>0.072624</td>\n",
       "      <td>-0.083084</td>\n",
       "      <td>0.139839</td>\n",
       "      <td>0.100439</td>\n",
       "      <td>-0.083843</td>\n",
       "      <td>-0.156105</td>\n",
       "      <td>-0.059101</td>\n",
       "      <td>0.018720</td>\n",
       "      <td>0.190997</td>\n",
       "      <td>1.000000</td>\n",
       "      <td>0.349307</td>\n",
       "      <td>0.152769</td>\n",
       "      <td>-0.058560</td>\n",
       "      <td>0.026454</td>\n",
       "    </tr>\n",
       "    <tr>\n",
       "      <th>avg_saturation</th>\n",
       "      <td>0.048276</td>\n",
       "      <td>-0.138490</td>\n",
       "      <td>0.079760</td>\n",
       "      <td>0.033649</td>\n",
       "      <td>-0.050000</td>\n",
       "      <td>-0.187537</td>\n",
       "      <td>-0.192698</td>\n",
       "      <td>-0.308603</td>\n",
       "      <td>-0.366988</td>\n",
       "      <td>0.349307</td>\n",
       "      <td>1.000000</td>\n",
       "      <td>-0.008857</td>\n",
       "      <td>0.015236</td>\n",
       "      <td>0.029846</td>\n",
       "    </tr>\n",
       "    <tr>\n",
       "      <th>avg_value</th>\n",
       "      <td>0.015719</td>\n",
       "      <td>-0.044127</td>\n",
       "      <td>0.041904</td>\n",
       "      <td>0.042578</td>\n",
       "      <td>-0.022591</td>\n",
       "      <td>-0.083276</td>\n",
       "      <td>0.916035</td>\n",
       "      <td>0.911642</td>\n",
       "      <td>0.856638</td>\n",
       "      <td>0.152769</td>\n",
       "      <td>-0.008857</td>\n",
       "      <td>1.000000</td>\n",
       "      <td>-0.100913</td>\n",
       "      <td>-0.073929</td>\n",
       "    </tr>\n",
       "    <tr>\n",
       "      <th>crossplane_sym</th>\n",
       "      <td>0.051837</td>\n",
       "      <td>0.019571</td>\n",
       "      <td>0.032289</td>\n",
       "      <td>0.032895</td>\n",
       "      <td>-0.012381</td>\n",
       "      <td>-0.022645</td>\n",
       "      <td>-0.073368</td>\n",
       "      <td>-0.096601</td>\n",
       "      <td>-0.103460</td>\n",
       "      <td>-0.058560</td>\n",
       "      <td>0.015236</td>\n",
       "      <td>-0.100913</td>\n",
       "      <td>1.000000</td>\n",
       "      <td>0.164447</td>\n",
       "    </tr>\n",
       "    <tr>\n",
       "      <th>inplane_sym</th>\n",
       "      <td>0.027560</td>\n",
       "      <td>-0.016648</td>\n",
       "      <td>0.045020</td>\n",
       "      <td>0.021532</td>\n",
       "      <td>-0.020752</td>\n",
       "      <td>-0.075092</td>\n",
       "      <td>-0.078553</td>\n",
       "      <td>-0.076814</td>\n",
       "      <td>-0.060510</td>\n",
       "      <td>0.026454</td>\n",
       "      <td>0.029846</td>\n",
       "      <td>-0.073929</td>\n",
       "      <td>0.164447</td>\n",
       "      <td>1.000000</td>\n",
       "    </tr>\n",
       "  </tbody>\n",
       "</table>\n",
       "</div>"
      ],
      "text/plain": [
       "                  height     price     width      area  price_sqin  \\\n",
       "height          1.000000  0.346955  0.776548  0.906289   -0.159310   \n",
       "price           0.346955  1.000000  0.278112  0.363233    0.359094   \n",
       "width           0.776548  0.278112  1.000000  0.863556   -0.188141   \n",
       "area            0.906289  0.363233  0.863556  1.000000   -0.104234   \n",
       "price_sqin     -0.159310  0.359094 -0.188141 -0.104234    1.000000   \n",
       "price_class    -0.139930  0.471134 -0.244776 -0.120259    0.383700   \n",
       "avg_r_value     0.011183 -0.001491  0.011152  0.030384    0.008538   \n",
       "avg_g_value    -0.002215 -0.005551  0.012862  0.027075   -0.007226   \n",
       "avg_b_value     0.005777 -0.001655  0.024751  0.036036   -0.028396   \n",
       "avg_hue         0.072624 -0.083084  0.139839  0.100439   -0.083843   \n",
       "avg_saturation  0.048276 -0.138490  0.079760  0.033649   -0.050000   \n",
       "avg_value       0.015719 -0.044127  0.041904  0.042578   -0.022591   \n",
       "crossplane_sym  0.051837  0.019571  0.032289  0.032895   -0.012381   \n",
       "inplane_sym     0.027560 -0.016648  0.045020  0.021532   -0.020752   \n",
       "\n",
       "                price_class  avg_r_value  avg_g_value  avg_b_value   avg_hue  \\\n",
       "height            -0.139930     0.011183    -0.002215     0.005777  0.072624   \n",
       "price              0.471134    -0.001491    -0.005551    -0.001655 -0.083084   \n",
       "width             -0.244776     0.011152     0.012862     0.024751  0.139839   \n",
       "area              -0.120259     0.030384     0.027075     0.036036  0.100439   \n",
       "price_sqin         0.383700     0.008538    -0.007226    -0.028396 -0.083843   \n",
       "price_class        1.000000    -0.018657    -0.023426    -0.031836 -0.156105   \n",
       "avg_r_value       -0.018657     1.000000     0.902772     0.757086 -0.059101   \n",
       "avg_g_value       -0.023426     0.902772     1.000000     0.907230  0.018720   \n",
       "avg_b_value       -0.031836     0.757086     0.907230     1.000000  0.190997   \n",
       "avg_hue           -0.156105    -0.059101     0.018720     0.190997  1.000000   \n",
       "avg_saturation    -0.187537    -0.192698    -0.308603    -0.366988  0.349307   \n",
       "avg_value         -0.083276     0.916035     0.911642     0.856638  0.152769   \n",
       "crossplane_sym    -0.022645    -0.073368    -0.096601    -0.103460 -0.058560   \n",
       "inplane_sym       -0.075092    -0.078553    -0.076814    -0.060510  0.026454   \n",
       "\n",
       "                avg_saturation  avg_value  crossplane_sym  inplane_sym  \n",
       "height                0.048276   0.015719        0.051837     0.027560  \n",
       "price                -0.138490  -0.044127        0.019571    -0.016648  \n",
       "width                 0.079760   0.041904        0.032289     0.045020  \n",
       "area                  0.033649   0.042578        0.032895     0.021532  \n",
       "price_sqin           -0.050000  -0.022591       -0.012381    -0.020752  \n",
       "price_class          -0.187537  -0.083276       -0.022645    -0.075092  \n",
       "avg_r_value          -0.192698   0.916035       -0.073368    -0.078553  \n",
       "avg_g_value          -0.308603   0.911642       -0.096601    -0.076814  \n",
       "avg_b_value          -0.366988   0.856638       -0.103460    -0.060510  \n",
       "avg_hue               0.349307   0.152769       -0.058560     0.026454  \n",
       "avg_saturation        1.000000  -0.008857        0.015236     0.029846  \n",
       "avg_value            -0.008857   1.000000       -0.100913    -0.073929  \n",
       "crossplane_sym        0.015236  -0.100913        1.000000     0.164447  \n",
       "inplane_sym           0.029846  -0.073929        0.164447     1.000000  "
      ]
     },
     "execution_count": 173,
     "metadata": {},
     "output_type": "execute_result"
    }
   ],
   "source": [
    "art_sym.corr()"
   ]
  },
  {
   "cell_type": "code",
   "execution_count": 174,
   "metadata": {
    "collapsed": true
   },
   "outputs": [],
   "source": [
    "colors = np.array(['red', 'green', 'blue', 'yellow', 'brown', 'purple', 'white'])"
   ]
  },
  {
   "cell_type": "code",
   "execution_count": null,
   "metadata": {
    "collapsed": false
   },
   "outputs": [],
   "source": [
    "# K-means with 7 clusters\n",
    "# define features\n",
    "feature_cols_1 = ['area', 'avg_r_value', 'avg_g_value', 'avg_b_value', 'avg_hue',\n",
    "       'avg_saturation', 'avg_value', 'crossplane_sym', 'inplane_sym', 'price']\n",
    "\n",
    "feature_cols_2 = ['area', 'avg_r_value', 'avg_g_value', 'avg_b_value', 'avg_hue',\n",
    "       'avg_saturation', 'avg_value', 'crossplane_sym', 'inplane_sym', 'price_sqin']\n",
    "\n",
    "\n",
    "# define X\n",
    "X_1 = art_sym[feature_cols_1]\n",
    "\n",
    "from sklearn.cluster import KMeans\n",
    "km = KMeans(n_clusters=7, random_state=1)\n",
    "km.fit(X_1)\n",
    "\n",
    "# create a cluster column \n",
    "art_sym['cluster_1']= km.labels_\n",
    "art_sym.cluster_1.value_counts()"
   ]
  },
  {
   "cell_type": "code",
   "execution_count": null,
   "metadata": {
    "collapsed": false
   },
   "outputs": [],
   "source": [
    "# define X\n",
    "X_2 = art_sym[feature_cols_2]\n",
    "\n",
    "from sklearn.cluster import KMeans\n",
    "km = KMeans(n_clusters=7, random_state=1)\n",
    "km.fit(X_2)\n",
    "\n",
    "# create a cluster column \n",
    "art_sym['cluster_2']= km.labels_\n",
    "art_sym.cluster_2.value_counts()"
   ]
  },
  {
   "cell_type": "code",
   "execution_count": null,
   "metadata": {
    "collapsed": false
   },
   "outputs": [],
   "source": [
    "pd.scatter_matrix(X_2, c=colors[list(art_sym.cluster_2)], figsize=(20,20), s=100)"
   ]
  },
  {
   "cell_type": "code",
   "execution_count": null,
   "metadata": {
    "collapsed": false
   },
   "outputs": [],
   "source": [
    "test = art_sym[['area', 'avg_r_value', 'avg_g_value', 'avg_b_value', 'avg_hue',\n",
    "       'avg_saturation', 'avg_value', 'crossplane_sym', 'inplane_sym', 'price_class', 'cluster_2']]\n"
   ]
  },
  {
   "cell_type": "code",
   "execution_count": null,
   "metadata": {
    "collapsed": false
   },
   "outputs": [],
   "source": [
    "import seaborn as sns\n",
    "sns.set()\n",
    "\n",
    "sns.pairplot(test, hue=\"cluster_2\")"
   ]
  },
  {
   "cell_type": "code",
   "execution_count": null,
   "metadata": {
    "collapsed": false
   },
   "outputs": [],
   "source": [
    "art_sym.columns"
   ]
  },
  {
   "cell_type": "code",
   "execution_count": null,
   "metadata": {
    "collapsed": false
   },
   "outputs": [],
   "source": [
    "test = art_sym[['area', 'crossplane_sym', 'inplane_sym', 'price', 'cluster_1']]\n",
    "\n",
    "sns.pairplot(test, hue=\"cluster_1\")"
   ]
  },
  {
   "cell_type": "code",
   "execution_count": null,
   "metadata": {
    "collapsed": false
   },
   "outputs": [],
   "source": [
    "sns.boxplot(x=\"price_class\", y=\"a\", data=art_sym, palette=\"PRGn\")\n",
    "sns.despine(offset=10, trim=True)"
   ]
  },
  {
   "cell_type": "code",
   "execution_count": null,
   "metadata": {
    "collapsed": true
   },
   "outputs": [],
   "source": []
  }
 ],
 "metadata": {
  "kernelspec": {
   "display_name": "Python 2",
   "language": "python",
   "name": "python2"
  },
  "language_info": {
   "codemirror_mode": {
    "name": "ipython",
    "version": 2
   },
   "file_extension": ".py",
   "mimetype": "text/x-python",
   "name": "python",
   "nbconvert_exporter": "python",
   "pygments_lexer": "ipython2",
   "version": "2.7.11"
  }
 },
 "nbformat": 4,
 "nbformat_minor": 0
}
