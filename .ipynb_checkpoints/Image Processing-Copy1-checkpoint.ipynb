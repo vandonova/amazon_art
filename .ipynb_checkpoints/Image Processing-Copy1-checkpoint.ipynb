{
 "cells": [
  {
   "cell_type": "code",
   "execution_count": 1,
   "metadata": {
    "collapsed": false
   },
   "outputs": [
    {
     "ename": "ImportError",
     "evalue": "dlopen(/usr/local/Cellar/opencv/2.4.12_2/cv2.so, 2): Symbol not found: _PyCObject_Type\n  Referenced from: /usr/local/Cellar/opencv/2.4.12_2/cv2.so\n  Expected in: flat namespace\n in /usr/local/Cellar/opencv/2.4.12_2/cv2.so",
     "output_type": "error",
     "traceback": [
      "\u001b[0;31m---------------------------------------------------------------------------\u001b[0m",
      "\u001b[0;31mImportError\u001b[0m                               Traceback (most recent call last)",
      "\u001b[0;32m<ipython-input-1-24895aec09ea>\u001b[0m in \u001b[0;36m<module>\u001b[0;34m()\u001b[0m\n\u001b[1;32m      5\u001b[0m \u001b[0;32mimport\u001b[0m \u001b[0mmatplotlib\u001b[0m\u001b[0;34m.\u001b[0m\u001b[0mpyplot\u001b[0m \u001b[0;32mas\u001b[0m \u001b[0mplt\u001b[0m\u001b[0;34m\u001b[0m\u001b[0m\n\u001b[1;32m      6\u001b[0m \u001b[0;32mimport\u001b[0m \u001b[0murllib\u001b[0m\u001b[0;34m\u001b[0m\u001b[0m\n\u001b[0;32m----> 7\u001b[0;31m \u001b[0;32mimport\u001b[0m \u001b[0mcv2\u001b[0m\u001b[0;34m\u001b[0m\u001b[0m\n\u001b[0m\u001b[1;32m      8\u001b[0m \u001b[0mget_ipython\u001b[0m\u001b[0;34m(\u001b[0m\u001b[0;34m)\u001b[0m\u001b[0;34m.\u001b[0m\u001b[0mmagic\u001b[0m\u001b[0;34m(\u001b[0m\u001b[0;34m'matplotlib inline'\u001b[0m\u001b[0;34m)\u001b[0m\u001b[0;34m\u001b[0m\u001b[0m\n\u001b[1;32m      9\u001b[0m \u001b[0;34m\u001b[0m\u001b[0m\n",
      "\u001b[0;31mImportError\u001b[0m: dlopen(/usr/local/Cellar/opencv/2.4.12_2/cv2.so, 2): Symbol not found: _PyCObject_Type\n  Referenced from: /usr/local/Cellar/opencv/2.4.12_2/cv2.so\n  Expected in: flat namespace\n in /usr/local/Cellar/opencv/2.4.12_2/cv2.so"
     ]
    }
   ],
   "source": [
    "import pandas as pd\n",
    "import numpy as np\n",
    "import sys\n",
    "sys.path += ['/usr/local/Cellar/opencv/2.4.12_2']\n",
    "import matplotlib.pyplot as plt\n",
    "import urllib\n",
    "import cv2\n",
    "%matplotlib inline\n",
    "\n",
    "def url_to_image(url):\n",
    "    #download the image\n",
    "    resp = urllib.urlopen(url)\n",
    "    #convert to NumPy array\n",
    "    image = np.asarray(bytearray(resp.read()), dtype ='uint8')\n",
    "    #read it into OpenCV\n",
    "    image = cv2.imdecode(image, cv2.IMREAD_UNCHANGED)\n",
    "    return image\n",
    "\n",
    "def np_array(url):\n",
    "    image = url_to_image(url)\n",
    "    cv_rgb = cv2.cvtColor(image, cv2.COLOR_BGR2RGB)\n",
    "    return cv_rgb\n",
    "    \n",
    "img = np_array('http://ecx.images-amazon.com/images/I/519lYUvAxDL._QL70_.jpg')\n",
    "edges = cv2.Canny(img,100,200)\n",
    "\n",
    "plt.subplot(121),plt.imshow(img,cmap = 'gray')\n",
    "plt.title('Original Image'), plt.xticks([]), plt.yticks([])\n",
    "plt.subplot(122),plt.imshow(edges,cmap = 'gray')\n",
    "plt.title('Edge Image'), plt.xticks([]), plt.yticks([])\n",
    "\n",
    "plt.show()"
   ]
  },
  {
   "cell_type": "code",
   "execution_count": 3,
   "metadata": {
    "collapsed": false
   },
   "outputs": [
    {
     "name": "stdout",
     "output_type": "stream",
     "text": [
      "Requirement already satisfied (use --upgrade to upgrade): pylinac in ./lib/python3.5/site-packages\n",
      "Requirement already satisfied (use --upgrade to upgrade): numpy>=1.9 in ./lib/python3.5/site-packages (from pylinac)\n",
      "Requirement already satisfied (use --upgrade to upgrade): matplotlib>=1.3.1 in ./lib/python3.5/site-packages (from pylinac)\n",
      "Requirement already satisfied (use --upgrade to upgrade): scipy>=0.15 in ./lib/python3.5/site-packages (from pylinac)\n",
      "Requirement already satisfied (use --upgrade to upgrade): Pillow>=2.5 in ./lib/python3.5/site-packages (from pylinac)\n",
      "Requirement already satisfied (use --upgrade to upgrade): pydicom>=0.9.9 in ./lib/python3.5/site-packages (from pylinac)\n",
      "Requirement already satisfied (use --upgrade to upgrade): scikit-image>=0.11 in ./lib/python3.5/site-packages (from pylinac)\n",
      "Requirement already satisfied (use --upgrade to upgrade): tqdm==3.8 in ./lib/python3.5/site-packages (from pylinac)\n",
      "Requirement already satisfied (use --upgrade to upgrade): pyparsing!=2.0.0,!=2.0.4,>=1.5.6 in ./lib/python3.5/site-packages (from matplotlib>=1.3.1->pylinac)\n",
      "Requirement already satisfied (use --upgrade to upgrade): python-dateutil in ./lib/python3.5/site-packages (from matplotlib>=1.3.1->pylinac)\n",
      "Requirement already satisfied (use --upgrade to upgrade): pytz in ./lib/python3.5/site-packages (from matplotlib>=1.3.1->pylinac)\n",
      "Requirement already satisfied (use --upgrade to upgrade): cycler in ./lib/python3.5/site-packages (from matplotlib>=1.3.1->pylinac)\n",
      "Requirement already satisfied (use --upgrade to upgrade): networkx>=1.8 in ./lib/python3.5/site-packages (from scikit-image>=0.11->pylinac)\n",
      "Requirement already satisfied (use --upgrade to upgrade): dask[array]>=0.5.0 in ./lib/python3.5/site-packages (from scikit-image>=0.11->pylinac)\n",
      "Requirement already satisfied (use --upgrade to upgrade): six>=1.7.3 in ./lib/python3.5/site-packages (from scikit-image>=0.11->pylinac)\n",
      "Requirement already satisfied (use --upgrade to upgrade): decorator>=3.4.0 in ./lib/python3.5/site-packages (from networkx>=1.8->scikit-image>=0.11->pylinac)\n",
      "Requirement already satisfied (use --upgrade to upgrade): toolz>=0.7.2; extra == \"array\" in ./lib/python3.5/site-packages (from dask[array]>=0.5.0->scikit-image>=0.11->pylinac)\n"
     ]
    }
   ],
   "source": [
    "!pip install pylinac"
   ]
  },
  {
   "cell_type": "code",
   "execution_count": 4,
   "metadata": {
    "collapsed": true
   },
   "outputs": [],
   "source": [
    "from pylinac.flatsym import BeamImage"
   ]
  },
  {
   "cell_type": "code",
   "execution_count": 17,
   "metadata": {
    "collapsed": false
   },
   "outputs": [],
   "source": [
    "def get_photo(url):\n",
    "    resp = urllib.request.urlopen(url)\n",
    "    return np.asarray(bytearray(resp.read()), dtype ='uint8')\n",
    "my_file = get_photo('http://ecx.images-amazon.com/images/I/61CCY23qgLL._QL70_.jpg')"
   ]
  },
  {
   "cell_type": "code",
   "execution_count": 18,
   "metadata": {
    "collapsed": false
   },
   "outputs": [
    {
     "data": {
      "text/plain": [
       "array([255, 216, 255, ..., 109, 255, 217], dtype=uint8)"
      ]
     },
     "execution_count": 18,
     "metadata": {},
     "output_type": "execute_result"
    }
   ],
   "source": [
    "my_file"
   ]
  },
  {
   "cell_type": "code",
   "execution_count": 11,
   "metadata": {
    "collapsed": false
   },
   "outputs": [],
   "source": [
    "my_img = BeamImage('http://ecx.images-amazon.com/images/I/61CCY23qgLL._QL70_.jpg')"
   ]
  },
  {
   "cell_type": "code",
   "execution_count": 14,
   "metadata": {
    "collapsed": false
   },
   "outputs": [
    {
     "data": {
      "text/plain": [
       "array([[ 0.]])"
      ]
     },
     "execution_count": 14,
     "metadata": {},
     "output_type": "execute_result"
    }
   ],
   "source": [
    "my_img.image"
   ]
  },
  {
   "cell_type": "code",
   "execution_count": 3,
   "metadata": {
    "collapsed": false
   },
   "outputs": [
    {
     "name": "stdout",
     "output_type": "stream",
     "text": [
      "/Users/Vicky/.pyenv/versions/3.5.1/envs/my-virtual-env-3.5.1\n",
      "/Users/Vicky/anaconda/bin/python\n",
      "/Users/Vicky/anaconda/lib/python2.7/site-packages/IPython/__init__.pyc\n",
      "['', '/Users/Vicky/.pyenv/versions/3.5.1/envs/my-virtual-env-3.5.1/lib/python2.7/site-packages', '', '/Users/Vicky/anaconda/lib/python27.zip', '/Users/Vicky/anaconda/lib/python2.7', '/Users/Vicky/anaconda/lib/python2.7/plat-darwin', '/Users/Vicky/anaconda/lib/python2.7/plat-mac', '/Users/Vicky/anaconda/lib/python2.7/plat-mac/lib-scriptpackages', '/Users/Vicky/anaconda/lib/python2.7/lib-tk', '/Users/Vicky/anaconda/lib/python2.7/lib-old', '/Users/Vicky/anaconda/lib/python2.7/lib-dynload', '/Users/Vicky/anaconda/lib/python2.7/site-packages/Sphinx-1.3.1-py2.7.egg', '/Users/Vicky/anaconda/lib/python2.7/site-packages/setuptools-20.1.1-py2.7.egg', '/Users/Vicky/anaconda/lib/python2.7/site-packages', '/Users/Vicky/anaconda/lib/python2.7/site-packages/aeosa', '/Users/Vicky/anaconda/lib/python2.7/site-packages/IPython/extensions', '/Users/Vicky/.ipython', '/Users/Vicky/.pyenv/versions/3.5.1/envs/my-virtual-env-3.5.1/lib/python2.7/site-packages']\n"
     ]
    }
   ],
   "source": [
    "import os, sys, IPython\n",
    "print os.environ['VIRTUAL_ENV']\n",
    "print sys.executable\n",
    "print IPython.__file__\n",
    "\n",
    "print sys.path"
   ]
  },
  {
   "cell_type": "code",
   "execution_count": 4,
   "metadata": {
    "collapsed": false
   },
   "outputs": [
    {
     "data": {
      "text/plain": [
       "'2.7.11 |Anaconda 2.4.1 (x86_64)| (default, Dec  6 2015, 18:57:58) \\n[GCC 4.2.1 (Apple Inc. build 5577)]'"
      ]
     },
     "execution_count": 4,
     "metadata": {},
     "output_type": "execute_result"
    }
   ],
   "source": [
    "sys.version"
   ]
  },
  {
   "cell_type": "code",
   "execution_count": null,
   "metadata": {
    "collapsed": true
   },
   "outputs": [],
   "source": []
  }
 ],
 "metadata": {
  "kernelspec": {
   "display_name": "Python 3",
   "language": "python",
   "name": "python3"
  }
 },
 "nbformat": 4,
 "nbformat_minor": 0
}
